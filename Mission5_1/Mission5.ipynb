{
 "cells": [
  {
   "cell_type": "code",
   "execution_count": 8,
   "metadata": {},
   "outputs": [],
   "source": [
    "\"\"\"\n",
    "描述\n",
    "\n",
    "使用python的request模組去訪問`https://jsonplaceholder.typicode.com/users`  取得第2,3,4,5 筆資料，\n",
    "\n",
    "偵測當時日期，轉作檔名，將2345筆資料內容寫入檔案中。\n",
    "\"\"\"\n",
    "\n",
    "#使用python的request模組去訪問`https://jsonplaceholder.typicode.com/users\n",
    "\n",
    "#載入模組\n",
    "import requests\n",
    "\n",
    "#獲取網頁\n",
    "responseWithQueryStringFromRemote = requests.get('https://jsonplaceholder.typicode.com/users')\n",
    "\n",
    "#將檔案已json方式存入變數\n",
    "responseJson = responseWithQueryStringFromRemote.json()\n",
    "\n",
    "\n",
    "#偵測當時日期，轉作檔名\n",
    "\n",
    "#載入datetime套件\n",
    "import datetime\n",
    "\n",
    "#以特定格式取得當前日期\n",
    "nowTime = datetime.datetime.utcnow().strftime(\"%Y-%m-%d\")\n",
    "print(nowTime)\n",
    "\n",
    "\n",
    "\n",
    "\n"
   ]
  },
  {
   "cell_type": "code",
   "execution_count": 9,
   "metadata": {},
   "outputs": [],
   "source": [
    "#開檔案\n",
    "openStep2File = open(nowTime +'.txt','w')\n",
    "\n",
    "# 將資料寫入檔案\n",
    "openStep2File.write(str(responseJson[1:5]))\n",
    "\n",
    "# 將檔案關閉\n",
    "openStep2File.close()\n",
    "\n",
    "\n",
    "    \n"
   ]
  },
  {
   "cell_type": "code",
   "execution_count": null,
   "metadata": {},
   "outputs": [],
   "source": []
  }
 ],
 "metadata": {
  "kernelspec": {
   "display_name": "Python 3",
   "language": "python",
   "name": "python3"
  },
  "language_info": {
   "codemirror_mode": {
    "name": "ipython",
    "version": 3
   },
   "file_extension": ".py",
   "mimetype": "text/x-python",
   "name": "python",
   "nbconvert_exporter": "python",
   "pygments_lexer": "ipython3",
   "version": "3.7.1"
  }
 },
 "nbformat": 4,
 "nbformat_minor": 2
}
