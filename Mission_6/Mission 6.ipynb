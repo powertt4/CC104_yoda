{
 "cells": [
  {
   "cell_type": "code",
   "execution_count": null,
   "metadata": {
    "collapsed": true
   },
   "outputs": [],
   "source": [
    "\"\"\"\n",
    "\n",
    "後端工程師經常會需要做一些適合用一個http server來做的需求，\n",
    "有的時候如果會快速地開發一個簡單易用的http server，這些需求也就會因此迎刃而解。\n",
    "\n",
    "\"\"\""
   ]
  },
  {
   "cell_type": "code",
   "execution_count": 1,
   "metadata": {},
   "outputs": [
    {
     "name": "stdout",
     "output_type": "stream",
     "text": [
      "Collecting flask\n",
      "\u001b[?25l  Downloading https://files.pythonhosted.org/packages/7f/e7/08578774ed4536d3242b14dacb4696386634607af824ea997202cd0edb4b/Flask-1.0.2-py2.py3-none-any.whl (91kB)\n",
      "\u001b[K    100% |████████████████████████████████| 92kB 409kB/s ta 0:00:01    78% |█████████████████████████       | 71kB 380kB/s eta 0:00:01\n",
      "\u001b[?25hCollecting Werkzeug>=0.14 (from flask)\n",
      "\u001b[?25l  Downloading https://files.pythonhosted.org/packages/20/c4/12e3e56473e52375aa29c4764e70d1b8f3efa6682bef8d0aae04fe335243/Werkzeug-0.14.1-py2.py3-none-any.whl (322kB)\n",
      "\u001b[K    100% |████████████████████████████████| 327kB 684kB/s ta 0:00:01   12% |████                            | 40kB 645kB/s eta 0:00:01\n",
      "\u001b[?25hRequirement already satisfied: Jinja2>=2.10 in /opt/conda/lib/python3.7/site-packages (from flask) (2.10)\n",
      "Collecting click>=5.1 (from flask)\n",
      "\u001b[?25l  Downloading https://files.pythonhosted.org/packages/fa/37/45185cb5abbc30d7257104c434fe0b07e5a195a6847506c074527aa599ec/Click-7.0-py2.py3-none-any.whl (81kB)\n",
      "\u001b[K    100% |████████████████████████████████| 81kB 1.4MB/s ta 0:00:01\n",
      "\u001b[?25hCollecting itsdangerous>=0.24 (from flask)\n",
      "  Downloading https://files.pythonhosted.org/packages/76/ae/44b03b253d6fade317f32c24d100b3b35c2239807046a4c953c7b89fa49e/itsdangerous-1.1.0-py2.py3-none-any.whl\n",
      "Requirement already satisfied: MarkupSafe>=0.23 in /opt/conda/lib/python3.7/site-packages (from Jinja2>=2.10->flask) (1.1.0)\n",
      "Installing collected packages: Werkzeug, click, itsdangerous, flask\n",
      "Successfully installed Werkzeug-0.14.1 click-7.0 flask-1.0.2 itsdangerous-1.1.0\n"
     ]
    }
   ],
   "source": [
    "# 安裝flask套件\n",
    "!pip install flask"
   ]
  },
  {
   "cell_type": "code",
   "execution_count": 2,
   "metadata": {},
   "outputs": [
    {
     "name": "stdout",
     "output_type": "stream",
     "text": [
      " * Serving Flask app \"__main__\" (lazy loading)\n",
      " * Environment: production\n",
      "   WARNING: Do not use the development server in a production environment.\n",
      "   Use a production WSGI server instead.\n",
      " * Debug mode: off\n"
     ]
    },
    {
     "name": "stderr",
     "output_type": "stream",
     "text": [
      " * Running on http://0.0.0.0:5000/ (Press CTRL+C to quit)\n",
      "10.120.23.34 - - [04/Jan/2019 04:07:31] \"GET / HTTP/1.1\" 200 -\n",
      "10.120.23.34 - - [04/Jan/2019 04:07:31] \"GET /favicon.ico HTTP/1.1\" 404 -\n",
      "10.120.23.34 - - [04/Jan/2019 05:27:24] \"GET / HTTP/1.1\" 200 -\n",
      "10.120.23.34 - - [04/Jan/2019 05:27:39] \"GET / HTTP/1.1\" 200 -\n",
      "10.120.23.34 - - [04/Jan/2019 05:27:41] \"GET / HTTP/1.1\" 200 -\n"
     ]
    }
   ],
   "source": [
    "\"\"\"\n",
    "flask 簡單hello world 實作\n",
    "\"\"\"\n",
    "\n",
    "from flask import Flask, request, abort\n",
    "app = Flask(__name__,static_url_path = \"/images\" , static_folder = \"./images/\" )\n",
    "\n",
    "@app.route('/',methods=['GET'])\n",
    "def hello_world():\n",
    "    return 'Hello, World!'\n",
    "\n",
    "if __name__ == \"__main__\":\n",
    "    app.run(host='0.0.0.0',port='5000')"
   ]
  },
  {
   "cell_type": "code",
   "execution_count": 11,
   "metadata": {},
   "outputs": [
    {
     "name": "stdout",
     "output_type": "stream",
     "text": [
      " * Serving Flask app \"__main__\" (lazy loading)\n",
      " * Environment: production\n",
      "   WARNING: Do not use the development server in a production environment.\n",
      "   Use a production WSGI server instead.\n",
      " * Debug mode: off\n"
     ]
    },
    {
     "name": "stderr",
     "output_type": "stream",
     "text": [
      " * Running on http://0.0.0.0:5000/ (Press CTRL+C to quit)\n",
      "10.120.23.34 - - [04/Jan/2019 06:03:08] \"GET / HTTP/1.1\" 200 -\n"
     ]
    }
   ],
   "source": [
    "\"\"\"\n",
    "get 時 回傳json\n",
    "\"\"\"\n",
    "from flask import Flask, jsonify\n",
    "app = Flask(__name__,static_url_path = \"/images\" , static_folder = \"./images/\" )\n",
    "\n",
    "@app.route('/',methods=['GET'])\n",
    "def hello_world():\n",
    "    t = {\"userId\":1,\"userName\":\"xiaoming\"}\n",
    "    return jsonify(t)\n",
    "\n",
    "if __name__ == \"__main__\":\n",
    "    app.run(host='0.0.0.0')"
   ]
  },
  {
   "cell_type": "code",
   "execution_count": 5,
   "metadata": {},
   "outputs": [
    {
     "name": "stdout",
     "output_type": "stream",
     "text": [
      " * Serving Flask app \"__main__\" (lazy loading)\n",
      " * Environment: production\n",
      "   WARNING: Do not use the development server in a production environment.\n",
      "   Use a production WSGI server instead.\n",
      " * Debug mode: off\n"
     ]
    },
    {
     "name": "stderr",
     "output_type": "stream",
     "text": [
      " * Running on http://0.0.0.0:5000/ (Press CTRL+C to quit)\n",
      "10.120.23.34 - - [04/Jan/2019 05:29:58] \"GET /?hello=iii HTTP/1.1\" 200 -\n",
      "10.120.23.34 - - [04/Jan/2019 05:32:47] \"GET /?hello HTTP/1.1\" 200 -\n",
      "10.120.23.34 - - [04/Jan/2019 05:32:56] \"GET /?hello=5566 HTTP/1.1\" 200 -\n",
      "10.120.23.34 - - [04/Jan/2019 05:33:24] \"GET /?%22userId%22:1,%22userName%22:%22xiaoming%22 HTTP/1.1\" 200 -\n",
      "10.120.23.34 - - [04/Jan/2019 05:33:36] \"GET /?userId:1,%22userName%22:%22xiaoming%22 HTTP/1.1\" 200 -\n",
      "10.120.23.34 - - [04/Jan/2019 05:34:24] \"GET /?hello=iii HTTP/1.1\" 200 -\n",
      "10.120.23.34 - - [04/Jan/2019 05:34:29] \"GET /?iii=123 HTTP/1.1\" 200 -\n"
     ]
    }
   ],
   "source": [
    "\"\"\"\n",
    "flask get結合query string\n",
    "\n",
    "使用時，查詢http://192.168.114.10:5000?hello=iii\n",
    "\n",
    "\"\"\"\n",
    "\n",
    "from flask import Flask, request, abort, jsonify\n",
    "app = Flask(__name__,static_url_path = \"/images\" , static_folder = \"./images/\" )\n",
    "\n",
    "@app.route('/',methods=['GET'])\n",
    "def hello_world():\n",
    "    t = request.args.get('hello')\n",
    "    jsonDict = {'hello':t}\n",
    "    \n",
    "    return jsonify(jsonDict)\n",
    "\n",
    "if __name__ == \"__main__\":\n",
    "    app.run(host='0.0.0.0')"
   ]
  },
  {
   "cell_type": "code",
   "execution_count": 6,
   "metadata": {},
   "outputs": [
    {
     "name": "stdout",
     "output_type": "stream",
     "text": [
      " * Serving Flask app \"__main__\" (lazy loading)\n",
      " * Environment: production\n",
      "   WARNING: Do not use the development server in a production environment.\n",
      "   Use a production WSGI server instead.\n",
      " * Debug mode: off\n"
     ]
    },
    {
     "name": "stderr",
     "output_type": "stream",
     "text": [
      " * Running on http://0.0.0.0:5000/ (Press CTRL+C to quit)\n",
      "10.120.23.34 - - [04/Jan/2019 05:35:10] \"GET /?iii=123 HTTP/1.1\" 405 -\n",
      "10.120.23.34 - - [04/Jan/2019 05:35:16] \"GET /?iii=123 HTTP/1.1\" 405 -\n",
      "10.120.23.34 - - [04/Jan/2019 05:35:27] \"GET / HTTP/1.1\" 405 -\n",
      "10.120.23.34 - - [04/Jan/2019 05:38:28] \"POST / HTTP/1.1\" 200 -\n"
     ]
    }
   ],
   "source": [
    "\"\"\"\n",
    "\n",
    "flask simple post\n",
    "用戶可以對Server丟post，\n",
    "Server會找出 欄位為nickname的值進行操作\n",
    "\n",
    "\"\"\"\n",
    "\n",
    "from flask import Flask, request, abort, jsonify\n",
    "app = Flask(__name__,static_url_path = \"/images\" , static_folder = \"./images/\" )\n",
    "\n",
    "@app.route('/',methods=['POST'])\n",
    "def hello_world():\n",
    "    t =request.get_json()\n",
    "    jsonDict = {'nickname':t.get('nickname','little apple')}\n",
    "    return jsonify(jsonDict)\n",
    "\n",
    "if __name__ == \"__main__\":\n",
    "    app.run(host='0.0.0.0')"
   ]
  },
  {
   "cell_type": "code",
   "execution_count": null,
   "metadata": {
    "collapsed": true
   },
   "outputs": [],
   "source": []
  }
 ],
 "metadata": {
  "kernelspec": {
   "display_name": "Python 3",
   "language": "python",
   "name": "python3"
  },
  "language_info": {
   "codemirror_mode": {
    "name": "ipython",
    "version": 3
   },
   "file_extension": ".py",
   "mimetype": "text/x-python",
   "name": "python",
   "nbconvert_exporter": "python",
   "pygments_lexer": "ipython3",
   "version": "3.7.1"
  }
 },
 "nbformat": 4,
 "nbformat_minor": 1
}
