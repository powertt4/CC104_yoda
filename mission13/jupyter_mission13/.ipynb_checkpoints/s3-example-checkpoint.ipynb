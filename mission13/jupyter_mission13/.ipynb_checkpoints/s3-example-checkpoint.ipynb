{
 "cells": [
  {
   "cell_type": "code",
   "execution_count": null,
   "metadata": {},
   "outputs": [],
   "source": [
    "import boto3\n",
    "\n",
    "s3 = boto3.resource('s3', endpoint_url='http://localhost:4567',\n",
    "                    aws_access_key_id='123', aws_secret_access_key='abc')\n",
    "s3.create_bucket(Bucket='my_bucket')\n",
    "for bucket in s3.buckets.all():\n",
    "    print(bucket.name)"
   ]
  }
 ],
 "metadata": {
  "kernelspec": {
   "display_name": "Python 3",
   "language": "python",
   "name": "python3"
  },
  "language_info": {
   "codemirror_mode": {
    "name": "ipython",
    "version": 3
   },
   "file_extension": ".py",
   "mimetype": "text/x-python",
   "name": "python",
   "nbconvert_exporter": "python",
   "pygments_lexer": "ipython3",
   "version": "3.7.1"
  }
 },
 "nbformat": 4,
 "nbformat_minor": 2
}
